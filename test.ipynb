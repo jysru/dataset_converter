{
 "cells": [
  {
   "cell_type": "code",
   "execution_count": 13,
   "metadata": {},
   "outputs": [],
   "source": [
    "%load_ext autoreload\n",
    "%autoreload 2\n",
    "\n",
    "import numpy as np\n",
    "import h5py\n",
    "import scipy.io as sio\n",
    "import mat73\n",
    "import os"
   ]
  },
  {
   "cell_type": "code",
   "execution_count": 7,
   "metadata": {},
   "outputs": [],
   "source": [
    "path = 'C:/ML/datasets/colman'\n",
    "name = 'DataColman_f_0mm_8by8_actuators_04_Dec_15_38.mat'\n",
    "\n",
    "try:\n",
    "    dset = sio.loadmat(os.path.join(path, name))\n",
    "except NotImplementedError:\n",
    "    dset = mat73.loadmat(os.path.join(path, name))"
   ]
  },
  {
   "cell_type": "code",
   "execution_count": 14,
   "metadata": {},
   "outputs": [
    {
     "name": "stdout",
     "output_type": "stream",
     "text": [
      "C:/ML/datasets/colman\n",
      "DataColman_f_0mm_8by8_actuators_04_Dec_15_38\n",
      ".mat\n"
     ]
    }
   ],
   "source": [
    "print(os.path.dirname(os.path.join(path, name)))\n",
    "basename, ext = os.path.splitext(name)\n",
    "\n",
    "print(basename)\n",
    "print(ext)"
   ]
  },
  {
   "cell_type": "code",
   "execution_count": 12,
   "metadata": {},
   "outputs": [],
   "source": [
    "savename = os.path.join(path, f\"{basename}.hdf5\")\n",
    "with h5py.File(savename, 'w') as hf:\n",
    "    for key_name in dset:\n",
    "        hf.create_dataset(name=key_name, data=dset[key_name])"
   ]
  }
 ],
 "metadata": {
  "kernelspec": {
   "display_name": "ml",
   "language": "python",
   "name": "python3"
  },
  "language_info": {
   "codemirror_mode": {
    "name": "ipython",
    "version": 3
   },
   "file_extension": ".py",
   "mimetype": "text/x-python",
   "name": "python",
   "nbconvert_exporter": "python",
   "pygments_lexer": "ipython3",
   "version": "3.9.13"
  }
 },
 "nbformat": 4,
 "nbformat_minor": 2
}
